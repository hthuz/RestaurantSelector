{
 "cells": [
  {
   "cell_type": "code",
   "execution_count": null,
   "metadata": {},
   "outputs": [],
   "source": [
    "# define the url\n",
    "import requests\n",
    "# Nearby search Chicago\n",
    "## Replace <API KEY> with your google map api key\n",
    "url = \"https://maps.googleapis.com/maps/api/place/nearbysearch/json?location=41.846419531506214%2C-87.84479200525533&radius=27780&type=restaurant&key=<API KEY>\"\n"
   ]
  },
  {
   "cell_type": "code",
   "execution_count": null,
   "metadata": {},
   "outputs": [],
   "source": [
    "# use google map api to get data\n",
    "payload={}\n",
    "headers = {}\n",
    "response = requests.request(\"GET\", url, headers=headers, data=payload)\n",
    "\n"
   ]
  },
  {
   "cell_type": "code",
   "execution_count": null,
   "metadata": {},
   "outputs": [],
   "source": [
    "#convert the data to list. place_id_list is the list of all place id\n",
    "\n",
    "import json\n",
    "response_json = response.text\n",
    "\n",
    "# dictionary containging all information\n",
    "response_data = json.loads(response_json)\n",
    "print(response_data['next_page_token'])\n",
    "\n",
    "# list containing all information, each list is a dictionary\n",
    "response_list = response_data['results']\n",
    "# get list of place id\n",
    "place_id_list = []\n",
    "for i in range(len(response_list)):\n",
    "    place_id_list.append(response_list[i]['place_id'])"
   ]
  },
  {
   "cell_type": "code",
   "execution_count": null,
   "metadata": {},
   "outputs": [],
   "source": [
    "for i in range(len(place_id_list)):\n",
    "    print(place_id_list[i])"
   ]
  },
  {
   "cell_type": "code",
   "execution_count": null,
   "metadata": {},
   "outputs": [],
   "source": [
    "# a storage of all ids in champaign_urbana\n",
    "champaign_urbana_id = []\n",
    "for i in range(len(place_id_list)):\n",
    "    champaign_urbana_id.append(place_id_list[i])\n"
   ]
  },
  {
   "cell_type": "code",
   "execution_count": null,
   "metadata": {},
   "outputs": [],
   "source": [
    "for i in range(len(champaign_urbana_id)):\n",
    "    print(champaign_urbana_id[i])\n"
   ]
  },
  {
   "cell_type": "code",
   "execution_count": null,
   "metadata": {},
   "outputs": [],
   "source": [
    "# !!! data are stored. DO NOT EXECUTE THIS BLOCK\n",
    "# initialize restaurant and address\n",
    "\n",
    "#import json file\n",
    "import json\n",
    "import random\n",
    "import re\n",
    "num_records = 1600\n",
    "#data from input json file\n",
    "restaurant=[]\n",
    "address=[]\n",
    "addr = \"\"\n",
    "street = \"\"\n",
    "city=\"\"\n",
    "state=\"\"\n",
    "with open('Restaurants.json', 'r') as f:\n",
    "    data = json.load(f)\n",
    "\n",
    "# random list \n",
    "random_list = random.sample(range(0,10200),num_records)\n",
    "\n",
    "\n",
    "# build restaurant and address\n",
    "for i in range(num_records):\n",
    "    restaurant.append({'ID':i, 'Name': data[random_list[i]]['title1'], 'Cuisine':data[random_list[i]]['title']})\n",
    "    addr = data[random_list[i]]['address']\n",
    "\n",
    "    if(addr != \"\"):\n",
    "        if((addr[0]).isdigit() == True):\n",
    "            street = re.sub(r'[0-9]+','',addr)\n",
    "        else:\n",
    "            street = addr\n",
    "    else:\n",
    "        street = addr\n",
    "\n",
    "    city = data[random_list[i]]['address1'].split(',')[0]\n",
    "    state = data[random_list[i]]['address1'].split(',')[1]\n",
    "    zipcode = data[random_list[i]]['address1'].split(',')[2]\n",
    "    address.append({'ID':i,'address':addr,'street':street,'city':city,'state':state,'zipcode': zipcode })"
   ]
  },
  {
   "cell_type": "code",
   "execution_count": null,
   "metadata": {},
   "outputs": [],
   "source": [
    "# Get place_id from google map\n",
    "import requests\n",
    "keys=[]\n",
    "existing_list = []\n",
    "for i in range(num_records):\n",
    "    text_input = restaurant[i]['Name'] + \" in\" + address[i]['street'] + \" \" + address[i]['city']\n",
    "    # Replace <API KEY> with your google map api key\n",
    "    url = \"https://maps.googleapis.com/maps/api/place/findplacefromtext/json?input=\"+text_input+\"&inputtype=textquery&fields=name%2Cplace_id%2Ctypes%2Cformatted_address&key=<API KEY>\"\n",
    "    payload={}\n",
    "    headers = {}\n",
    "    response = requests.request(\"GET\", url, headers=headers, data=payload)\n",
    "    response_json = response.text\n",
    "    google_data = json.loads(response_json)\n",
    "\n",
    "    # make sure query returns and make sure the query returns a restaurant and make sure it's in Chicago\n",
    "    if(google_data['status'] == \"OK\" and ('restaurant' in google_data['candidates'][0]['types'])):\n",
    "        if(('formatted_address' in google_data['candidates'][0]) and (len(google_data['candidates'][0]['formatted_address'].split(',')) == 4) and  (google_data['candidates'][0]['formatted_address'].split(',')[1] == ' Chicago') ):\n",
    "            existing_list.append(i)\n",
    "            keys.append(google_data['candidates'][0]['place_id'])"
   ]
  },
  {
   "cell_type": "code",
   "execution_count": null,
   "metadata": {},
   "outputs": [],
   "source": [
    "# verify the result of return keys\n",
    "# print(len(keys))\n",
    "with open('./googledata/address.json','w') as json_f:\n",
    "    json.dump(address,json_f)\n"
   ]
  },
  {
   "cell_type": "code",
   "execution_count": null,
   "metadata": {},
   "outputs": [],
   "source": [
    "# use place_id to get detail data. Store in results\n",
    "results = []\n",
    "for i in range(len(keys)):\n",
    "    url = \"https://maps.googleapis.com/maps/api/place/details/json?place_id=\"+keys[i]+\"&fields=name%2Crating%2Cformatted_phone_number%2Cformatted_address%2Cplace_id%2Crating%2Cprice_level%2Creviews%2Copening_hours%2Creviews%2Ctypes%2Cuser_ratings_total%2Cdelivery%2Cdine_in&key=<API KEY>\"\n",
    "    payload={}\n",
    "    headers = {}\n",
    "    response = requests.request(\"GET\", url, headers=headers, data=payload)\n",
    "    response_json = response.text\n",
    "    google_data = json.loads(response_json)\n",
    "    if(google_data['status'] == \"OK\"):\n",
    "        results.append(google_data)"
   ]
  },
  {
   "cell_type": "code",
   "execution_count": null,
   "metadata": {},
   "outputs": [],
   "source": [
    "# verify result of details\n",
    "print(results)"
   ]
  },
  {
   "cell_type": "markdown",
   "metadata": {
    "tags": []
   },
   "source": [
    "# Handling Results\n",
    "Now no need to dealing with google map api anymore. Use result to get data"
   ]
  },
  {
   "cell_type": "code",
   "execution_count": null,
   "metadata": {},
   "outputs": [],
   "source": [
    "# reload results. If you close file and need to reload results\n",
    "import json\n",
    "import re\n",
    "# with open('./googledata/results.json','w') as json_f:\n",
    "#     json.dump(results, json_f)\n",
    "with open('./googledata/results.json','r') as json_f:\n",
    "    results = json.load(json_f)\n",
    "with open('./googledata/address.json','r') as json_f:\n",
    "    address = json.load(json_f)\n",
    "with open('./googledata/restaurants.json','r') as json_f:\n",
    "    restaurant = json.load(json_f)\n",
    "existing_list = [0, 1, 5, 7, 9, 11, 12, 13, 14, 15, 17, 18, 19, 20, 21, 22, 23, 24, 26, 28, 29, 30, 32, 33, 35, 36, 37, 38, 39, 40, 43, 47, 48, 50, 51, 52, 53, 54, 55, 56, 57, 59, 61, 63, 65, 66, 67, 68, 69, 71, 72, 73, 74, 75, 77, 78, 79, 80, 81, 82, 83, 84, 86, 87, 88, 91, 92, 93, 94, 97, 98, 99, 101, 102, 103, 104, 106, 107, 108, 109, 110, 112, 113, 114, 115, 118, 119, 120, 121, 122, 123, 124, 127, 128, 129, 130, 131, 133, 134, 136, 137, 138, 140, 141, 142, 143, 144, 146, 149, 151, 152, 153, 154, 155, 156, 157, 158, 159, 163, 164, 165, 166, 167, 170, 173, 175, 177, 180, 181, 182, 183, 184, 185, 186, 187, 188, 189, 190, 192, 193, 194, 197, 198, 201, 202, 203, 204, 206, 207, 208, 209, 212, 213, 215, 216, 218, 219, 220, 222, 223, 225, 226, 227, 228, 229, 230, 232, 233, 234, 235, 236, 239, 240, 241, 242, 243, 244, 245, 247, 248, 249, 251, 252, 254, 256, 257, 258, 259, 260, 262, 263, 264, 265, 268, 269, 270, 271, 272, 274, 277, 278, 280, 281, 284, 285, 287, 288, 293, 294, 295, 296, 298, 299, 301, 302, 303, 305, 306, 307, 308, 309, 310, 311, 312, 314, 317, 318, 320, 321, 324, 326, 327, 328, 331, 332, 334, 335, 336, 338, 339, 340, 342, 344, 345, 346, 348, 351, 353, 354, 355, 356, 357, 359, 360, 361, 362, 363, 364, 365, 367, 368, 370, 371, 372, 374, 375, 377, 379, 381, 382, 383, 384, 385, 386, 387, 388, 390, 391, 392, 395, 396, 397, 399, 401, 403, 404, 405, 406, 407, 408, 409, 410, 411, 412, 413, 414, 416, 417, 418, 419, 421, 422, 423, 424, 425, 426, 427, 428, 429, 430, 431, 432, 433, 434, 435, 438, 439, 440, 442, 443, 444, 445, 446, 448, 449, 451, 452, 453, 454, 455, 456, 457, 458, 459, 460, 461, 462, 463, 464, 465, 466, 467, 468, 469, 470, 471, 472, 474, 475, 476, 477, 479, 480, 481, 482, 483, 485, 486, 487, 489, 490, 491, 492, 493, 495, 496, 497, 498, 499, 501, 503, 504, 506, 507, 508, 509, 512, 516, 517, 518, 519, 520, 521, 522, 524, 528, 529, 530, 531, 534, 535, 537, 539, 540, 541, 542, 543, 544, 545, 546, 548, 551, 554, 556, 558, 559, 560, 561, 562, 563, 565, 566, 567, 568, 569, 571, 572, 573, 574, 575, 577, 578, 579, 580, 581, 582, 583, 585, 586, 588, 589, 590, 591, 592, 593, 595, 596, 597, 598, 599, 600, 601, 606, 607, 608, 609, 611, 612, 614, 615, 619, 620, 621, 622, 625, 627, 629, 630, 631, 632, 633, 634, 635, 636, 637, 638, 639, 640, 643, 645, 648, 649, 651, 652, 654, 656, 657, 658, 659, 660, 661, 662, 663, 664, 666, 668, 670, 672, 674, 675, 676, 677, 678, 679, 680, 681, 683, 686, 689, 690, 691, 692, 693, 694, 695, 696, 697, 698, 699, 700, 702, 703, 704, 705, 706, 708, 709, 710, 711, 712, 717, 718, 719, 720, 722, 724, 725, 726, 727, 728, 733, 735, 736, 737, 738, 739, 740, 742, 743, 744, 746, 747, 748, 749, 750, 751, 752, 753, 754, 756, 757, 758, 761, 762, 764, 765, 766, 768, 769, 770, 771, 772, 773, 774, 775, 776, 777, 778, 780, 782, 783, 784, 785, 786, 788, 789, 790, 792, 793, 794, 795, 796, 797, 798, 799, 800, 801, 802, 803, 804, 805, 806, 807, 809, 810, 811, 812, 813, 814, 815, 816, 817, 818, 819, 820, 821, 822, 823, 824, 825, 826, 827, 828, 829, 830, 831, 832, 833, 834, 835, 836, 837, 838, 839, 840, 841, 842, 843, 844, 845, 846, 849, 851, 852, 854, 855, 856, 857, 858, 859, 860, 862, 863, 864, 865, 866, 867, 869, 870, 872, 873, 874, 875, 876, 877, 881, 882, 887, 888, 889, 890, 891, 892, 895, 897, 898, 899, 900, 901, 902, 903, 905, 907, 908, 909, 913, 914, 915, 916, 917, 918, 919, 920, 921, 922, 923, 926, 928, 929, 930, 932, 935, 937, 939, 940, 941, 942, 943, 944, 947, 948, 949, 951, 953, 955, 956, 957, 959, 961, 962, 964, 965, 966, 967, 968, 969, 970, 971, 973, 974, 975, 976, 977, 978, 980, 981, 982, 983, 984, 985, 986, 987, 988, 989, 991, 992, 995, 996, 997, 999, 1001, 1003, 1004, 1005, 1006, 1007, 1008, 1009, 1010, 1012, 1014, 1015, 1016, 1018, 1019, 1020, 1021, 1022, 1023, 1024, 1025, 1026, 1028, 1030, 1031, 1032, 1033, 1034, 1035, 1042, 1045, 1046, 1047, 1048, 1049, 1050, 1051, 1052, 1053, 1054, 1055, 1056, 1057, 1059, 1061, 1062, 1063, 1064, 1065, 1066, 1067, 1069, 1070, 1071, 1072, 1073, 1074, 1075, 1076, 1077, 1078, 1079, 1080, 1081, 1082, 1083, 1085, 1087, 1088, 1090, 1092, 1093, 1094, 1095, 1097, 1098, 1099, 1100, 1101, 1103, 1104, 1106, 1107, 1108, 1109, 1111, 1112, 1113, 1114, 1115, 1116, 1117, 1118, 1119, 1120, 1121, 1122, 1123, 1125, 1127, 1128, 1131, 1133, 1135, 1136, 1137, 1138, 1139, 1141, 1143, 1144, 1145, 1148, 1150, 1151, 1153, 1154, 1155, 1157, 1158, 1159, 1163, 1164, 1165, 1166, 1167, 1168, 1170, 1171, 1173, 1174, 1175, 1177, 1179, 1180, 1182, 1184, 1185, 1186, 1188, 1189, 1191, 1192, 1193, 1194, 1195, 1196, 1197, 1198, 1199, 1200, 1203, 1204, 1205, 1206, 1208, 1210, 1211, 1213, 1215, 1216, 1217, 1218, 1219, 1221, 1222, 1224, 1225, 1226, 1227, 1229, 1230, 1232, 1235, 1236, 1238, 1239, 1240, 1241, 1242, 1243, 1244, 1245, 1246, 1250, 1251, 1252, 1254, 1255, 1256, 1257, 1259, 1260, 1261, 1262, 1263, 1264, 1266, 1267, 1268, 1271, 1275, 1276, 1277, 1278, 1279, 1282, 1285, 1287, 1288, 1290, 1293, 1294, 1295, 1296, 1298, 1299, 1300, 1302, 1303, 1304, 1305, 1306, 1307, 1308, 1309, 1311, 1312, 1313, 1316, 1319, 1321, 1322, 1324, 1325, 1326, 1327, 1328, 1330, 1331, 1333, 1335, 1336, 1337, 1338, 1339, 1340, 1341, 1342, 1343, 1345, 1348, 1349, 1352, 1353, 1354, 1355, 1358, 1359, 1360, 1361, 1362, 1363, 1364, 1366, 1367, 1368, 1371, 1372, 1373, 1374, 1378, 1379, 1380, 1381, 1382, 1384, 1385, 1386, 1388, 1389, 1390, 1391, 1392, 1394, 1395, 1396, 1397, 1398, 1400, 1401, 1402, 1406, 1407, 1408, 1409, 1410, 1411, 1412, 1413, 1414, 1415, 1417, 1418, 1419, 1420, 1421, 1423, 1424, 1426, 1428, 1430, 1431, 1432, 1433, 1435, 1436, 1438, 1439, 1440, 1443, 1444, 1445, 1446, 1447, 1448, 1450, 1451, 1454, 1455, 1456, 1457, 1459, 1460, 1461, 1462, 1463, 1465, 1466, 1468, 1469, 1471, 1472, 1473, 1474, 1476, 1477, 1478, 1479, 1481, 1482, 1484, 1486, 1487, 1488, 1489, 1493, 1494, 1495, 1496, 1497, 1499, 1500, 1502, 1503, 1506, 1508, 1509, 1510, 1511, 1512, 1513, 1514, 1515, 1516, 1517, 1519, 1520, 1522, 1523, 1525, 1526, 1529, 1530, 1531, 1533, 1534, 1535, 1536, 1537, 1538, 1539, 1540, 1541, 1542, 1543, 1544, 1545, 1546, 1547, 1548, 1550, 1551, 1553, 1554, 1555, 1556, 1557, 1558, 1559, 1560, 1561, 1563, 1564, 1566, 1567, 1568, 1569, 1570, 1571, 1572, 1573, 1574, 1575, 1576, 1577, 1578, 1579, 1581, 1582, 1583, 1585, 1587, 1588, 1589, 1592, 1593, 1595, 1596, 1597, 1598, 1599]\n",
    "existing_num = len(results)\n"
   ]
  },
  {
   "cell_type": "code",
   "execution_count": null,
   "metadata": {},
   "outputs": [],
   "source": [
    "# existing restaurants and addresses from json input\n",
    "e_restaurants = []\n",
    "e_address = []\n",
    "for i in range(existing_num):\n",
    "    e_restaurants.append(restaurant[existing_list[i]])\n",
    "    e_address.append(address[existing_list[i]])"
   ]
  },
  {
   "cell_type": "code",
   "execution_count": null,
   "metadata": {},
   "outputs": [],
   "source": [
    "g_restaurants = []\n",
    "\n",
    "# set up google restaurants\n",
    "for i in range(existing_num):\n",
    "    res_dict = results[i]['result']\n",
    "    g_res_ID = e_restaurants[i]['ID']\n",
    "    if 'name' in res_dict:\n",
    "        g_res_name = res_dict['name']\n",
    "    else:\n",
    "        g_res_name = 'NULL'\n",
    "    if 'formatted_phone_number' in res_dict:\n",
    "        g_res_phone = res_dict['formatted_phone_number']\n",
    "    else:\n",
    "        g_res_phone = 'NULL'\n",
    "    if 'price_level' in res_dict:\n",
    "        g_res_price = res_dict['price_level']\n",
    "    else:\n",
    "        g_res_price = 'NULL'\n",
    "    if 'rating' in res_dict:\n",
    "        g_res_rating =  res_dict['rating']\n",
    "    else:\n",
    "        g_res_rating = 'NULL'\n",
    "    g_res_cuisine = e_restaurants[i]['Cuisine']\n",
    "    if 'delivery' in res_dict:\n",
    "        g_res_delivery = res_dict['delivery']\n",
    "    else:\n",
    "        g_res_delivery = 'NULL'\n",
    "    if 'dine_in' in res_dict:\n",
    "        g_res_dine = res_dict['dine_in']\n",
    "    else:\n",
    "        g_res_dine = 'NULL'\n",
    "    if 'user_ratings_total' in res_dict:\n",
    "        g_res_rating_total = res_dict['user_ratings_total']\n",
    "    else:\n",
    "        g_res_rating_total = 'NULL'\n",
    "\n",
    "    g_restaurants.append({'ID':g_res_ID, 'Name':g_res_name, 'PhoneNumber':g_res_phone, 'PriceLevel':g_res_price, 'Rating':g_res_rating, 'Cuisine':g_res_cuisine,'Delivery':g_res_delivery, 'dine_in':g_res_dine, 'rating_num':g_res_rating_total  })\n"
   ]
  },
  {
   "cell_type": "code",
   "execution_count": null,
   "metadata": {},
   "outputs": [],
   "source": [
    "print(g_restaurants)\n",
    "# with open('./googledata/g_restaurants.json','w') as json_f:\n",
    "#     json.dump(g_restaurants,json_f)"
   ]
  },
  {
   "cell_type": "code",
   "execution_count": null,
   "metadata": {},
   "outputs": [],
   "source": [
    "g_address = []\n",
    "g_locate = []\n",
    "\n",
    "# set up addresses\n",
    "for i in range(existing_num):\n",
    "    addr = results[i]['result']['formatted_address']\n",
    "    g_addr_ID = e_address[i]['ID']\n",
    "    street = re.sub(r'[0-9]+','',addr.split(',')[0])\n",
    "    city = addr.split(',')[1]\n",
    "    state = addr.split(',')[2].split(' ')[1]\n",
    "    zipcode = addr.split(',')[2].split(' ')[2]\n",
    "\n",
    "    g_address.append({'ID':g_addr_ID, 'address': addr, 'street': street, 'city': city, 'state': state, 'zipcode':zipcode})\n",
    "    g_locate.append({'RestaurantID': g_restaurants[i]['ID'],'LocationID': g_addr_ID})\n",
    "    \n",
    "    \n"
   ]
  },
  {
   "cell_type": "code",
   "execution_count": null,
   "metadata": {},
   "outputs": [],
   "source": [
    "with open('./googledata/g_address.json','w') as json_f:\n",
    "    json.dump(g_address,json_f)\n",
    "# with open('./googledata/g_locate.json','w') as json_f:\n",
    "#     json.dump(g_locate, json_f)\n",
    "print(g_address[2])\n",
    "# print(results[i]['result']['formatted_address'])"
   ]
  },
  {
   "cell_type": "code",
   "execution_count": null,
   "metadata": {},
   "outputs": [],
   "source": [
    "# set up reviews\n",
    "import emoji\n",
    "g_review = []\n",
    "g_reviewer = []\n",
    "g_writes = []\n",
    "g_contain = []\n",
    "author_url_list = []  # treated as key, just translate it to integers\n",
    "\n",
    "\n",
    "reviewerid = 0\n",
    "reviewid = 0\n",
    "for i in range(existing_num):\n",
    "    if('reviews' in results[i]['result'].keys()):\n",
    "        review_arr = results[i]['result']['reviews']\n",
    "        for j in range(len(review_arr)):\n",
    "            # for some reviews without author_url/reviewer_id , ignore them\n",
    "            if('author_url' in review_arr[j]):\n",
    "                if (review_arr[j]['author_url'] not in author_url_list):\n",
    "                    author_url_list.append(review_arr[j]['author_url'])\n",
    "                    g_reviewer.append({'ID':reviewerid, 'Name':review_arr[j]['author_name']})\n",
    "                    reviewerid = reviewerid + 1\n",
    "                g_review.append({'ID':reviewid, 'rating': review_arr[j]['rating'], 'comment': emoji.demojize(review_arr[j]['text']), 'date': review_arr[j]['time'],'author_url':review_arr[j]['author_url']})\n",
    "                g_contain.append({'reviewID':reviewid, 'restaurantID': g_restaurants[i]['ID']})\n",
    "                reviewid = reviewid + 1\n",
    "# set up write\n",
    "for i in range(len(g_reviewer)):\n",
    "    reviewerid = author_url_list.index(g_review[i]['author_url'])\n",
    "    g_writes.append({'reviewID':g_review[i]['ID'],'reviewerID':reviewerid})\n",
    "\n"
   ]
  },
  {
   "cell_type": "code",
   "execution_count": null,
   "metadata": {},
   "outputs": [],
   "source": [
    "# with open('./googledata/g_reviewer.json','w') as json_f:\n",
    "#    json.dump(g_reviewer, json_f)\n",
    "# with open('./googledata/g_review.json','w') as json_f:\n",
    "#     json.dump(g_review, json_f)\n",
    "# with open('./googledata/g_writes.json','w') as json_f:\n",
    "#     json.dump(g_writes,json_f)\n",
    "# with open('./googledata/g_contain.json','w') as json_f:\n",
    "#     json.dump(g_contain,json_f)\n"
   ]
  },
  {
   "cell_type": "code",
   "execution_count": null,
   "metadata": {},
   "outputs": [],
   "source": [
    "# set up schedule\n",
    "g_shedule = []\n",
    "g_businesshours = []\n",
    "opening_hours = []\n",
    "# print(results[0]['result'].keys())\n",
    "# print(results[15]['result']['opening_hours']['periods'])\n",
    "for i in range(existing_num):\n",
    "    if('opening_hours' in results[i]['result']):\n",
    "        opening_hours.append({'RestaurantID':g_restaurants[i]['ID'], 'periods': results[i]['result']['opening_hours']['periods'], 'weekday_text': results[i]['result']['opening_hours']['weekday_text']})\n"
   ]
  },
  {
   "cell_type": "code",
   "execution_count": null,
   "metadata": {},
   "outputs": [],
   "source": [
    "with open('./googledata/g_opening_hours.json','w') as json_f:\n",
    "    json.dump(g_contain,json_f)\n"
   ]
  },
  {
   "cell_type": "markdown",
   "metadata": {},
   "source": [
    "# Insert data to database\n"
   ]
  },
  {
   "cell_type": "code",
   "execution_count": null,
   "metadata": {},
   "outputs": [],
   "source": [
    "# insert restaurants\n",
    "import mysql.connector\n",
    "\n",
    "# Replace <PASSWORD> with your Root password\n",
    "mydb = mysql.connector.connect(\n",
    "    host = \"localhost\",\n",
    "    user = \"root\",\n",
    "    passwd = \"<PASSWORD>\"\n",
    ")\n",
    "\n",
    "mycursor = mydb.cursor()\n",
    "mycursor.execute(\"use mytest;\")\n",
    "\n",
    "\n",
    "# restaurantsql = \"INSERT INTO Restaurant (RestaurantID,Name,PhoneNumber,PriceLevel,AverageRating,Cuisine,Delivery,Dine_In) VALUES\"\n",
    "#set up sql command\n",
    "for i in range(existing_num):\n",
    "    cur_item = g_restaurants[i]\n",
    "    insert_val = (cur_item['ID'],)\n",
    "    insert_attr = \"RestaurantID\"\n",
    "    format = '%s'\n",
    "\n",
    "    if(cur_item['Name'] != 'NULL'):\n",
    "        insert_val += (cur_item['Name'],)\n",
    "        insert_attr += ',Name'\n",
    "        format += ', %s'\n",
    "    if(cur_item['PhoneNumber'] != 'NULL'):\n",
    "        insert_val += (cur_item['PhoneNumber'],)\n",
    "        insert_attr += ',PhoneNumber'\n",
    "        format += ', %s'\n",
    "    if(cur_item['PriceLevel'] != 'NULL'):\n",
    "        insert_val += (cur_item['PriceLevel'],)\n",
    "        insert_attr += ',PriceLevel'\n",
    "        format += ', %s'\n",
    "    if(cur_item['Rating'] != 'NULL'):\n",
    "        insert_val += (cur_item['Rating'],)\n",
    "        insert_attr += ',AverageRating'\n",
    "        format += ', %s'\n",
    "    if(cur_item['Cuisine'] != 'NULL'):\n",
    "        insert_val += (cur_item['Cuisine'],)\n",
    "        insert_attr += ',Cuisine'\n",
    "        format += ', %s'\n",
    "    if(cur_item['Delivery'] != 'NULL'):\n",
    "        insert_val += (cur_item['Delivery'],)\n",
    "        insert_attr += ',Delivery'\n",
    "        format += ', %s'\n",
    "    if(cur_item['dine_in'] != 'NULL'):\n",
    "        insert_val += (cur_item['dine_in'],)\n",
    "        insert_attr += ',Dine_In'\n",
    "        format += ', %s'\n",
    "    if(cur_item['rating_num'] != 'NULL'):\n",
    "        insert_val += (cur_item['rating_num'],)\n",
    "        insert_attr += ',RatingNum'\n",
    "        format += ', %s'\n",
    "    restaurantsql = \"INSERT INTO Restaurant (\" + insert_attr + \") VALUES \" + '(' + format + ')'\n",
    "    mycursor.execute(restaurantsql, insert_val)\n",
    "    mydb.commit()\n",
    "    \n",
    "    \n",
    "\n",
    "\n"
   ]
  },
  {
   "cell_type": "code",
   "execution_count": null,
   "metadata": {},
   "outputs": [],
   "source": [
    "# insert address\n",
    "import mysql.connector\n",
    "\n",
    "mydb = mysql.connector.connect(\n",
    "    host = \"localhost\",\n",
    "    user = \"root\",\n",
    "    passwd = \"<PASSWORD>\"\n",
    ")\n",
    "\n",
    "insert_val = []\n",
    "mycursor = mydb.cursor()\n",
    "mycursor.execute(\"use mytest;\")\n",
    "\n",
    "address_sql = \"INSERT INTO Location (LocationID, Address, Street, City, State, Zipcode) VALUES (%s,%s,%s,%s,%s,%s)\"\n",
    "for i in range(existing_num):\n",
    "    cur_item = g_address[i]\n",
    "    insert_val.append( (cur_item['ID'], cur_item['address'], cur_item['street'], cur_item['city'], cur_item['state'], cur_item['zipcode']) )\n",
    "\n",
    "mycursor.executemany(address_sql,insert_val)\n",
    "mydb.commit()\n"
   ]
  },
  {
   "cell_type": "code",
   "execution_count": null,
   "metadata": {},
   "outputs": [],
   "source": [
    "#insert locate\n",
    "import mysql.connector\n",
    "\n",
    "mydb = mysql.connector.connect(\n",
    "    host = \"localhost\",\n",
    "    user = \"root\",\n",
    "    passwd = \"<PASSWORD>\"\n",
    ")\n",
    "\n",
    "insert_val = []\n",
    "mycursor = mydb.cursor()\n",
    "mycursor.execute(\"use mytest;\")\n",
    "locate_sql = \"INSERT INTO Locate (RestaurantID,LocationID) VALUES (%s,%s)\"\n",
    "for i in range(existing_num):\n",
    "    cur_item = g_locate[i]\n",
    "    insert_val.append( (cur_item['RestaurantID'], cur_item['LocationID']) )\n",
    "\n",
    "mycursor.executemany(locate_sql,insert_val)\n",
    "mydb.commit()"
   ]
  },
  {
   "cell_type": "code",
   "execution_count": null,
   "metadata": {},
   "outputs": [],
   "source": [
    "#insert review  \n",
    "import mysql.connector\n",
    "import time\n",
    "\n",
    "mydb = mysql.connector.connect(\n",
    "    host = \"localhost\",\n",
    "    user = \"root\",\n",
    "    passwd = \"<PASSWORD>\"\n",
    ")\n",
    "\n",
    "insert_val = []\n",
    "mycursor = mydb.cursor()\n",
    "mycursor.execute(\"use mytest;\")\n",
    "review_sql = \"INSERT INTO review (ReviewID, Rating, Comment, ReviewDate) VALUES (%s, %s, %s, %s)\"\n",
    "for i in range(len(g_review)):\n",
    "    cur_item = g_review[i]\n",
    "    insert_val.append( (cur_item['ID'],cur_item['rating'], cur_item['comment'], time.strftime(\"%Y-%m-%d %H:%M:%S\", time.localtime(cur_item['date'])) ) )\n",
    "mycursor.executemany(review_sql, insert_val)\n",
    "mydb.commit()\n",
    "\n"
   ]
  },
  {
   "cell_type": "code",
   "execution_count": null,
   "metadata": {},
   "outputs": [],
   "source": [
    "#insert reviewer  \n",
    "import mysql.connector\n",
    "\n",
    "mydb = mysql.connector.connect(\n",
    "    host = \"localhost\",\n",
    "    user = \"root\",\n",
    "    passwd = \"<PASSWORD>\"\n",
    ")\n",
    "\n",
    "insert_val = []\n",
    "mycursor = mydb.cursor()\n",
    "mycursor.execute(\"use mytest;\")\n",
    "reviewer_sql = \"INSERT INTO reviewer(ReviewerID, Name) VALUES (%s, %s)\"\n",
    "for i in range(len(g_reviewer)):\n",
    "    cur_item = g_reviewer[i]\n",
    "    insert_val.append( (cur_item['ID'], cur_item['Name']) )\n",
    "mycursor.executemany(reviewer_sql, insert_val)\n",
    "mydb.commit()\n",
    "\n"
   ]
  },
  {
   "cell_type": "code",
   "execution_count": null,
   "metadata": {},
   "outputs": [],
   "source": [
    "#insert write\n",
    "import mysql.connector\n",
    "\n",
    "mydb = mysql.connector.connect(\n",
    "    host = \"localhost\",\n",
    "    user = \"root\",\n",
    "    passwd = \"<PASSWORD>\"\n",
    ")\n",
    "\n",
    "insert_val = []\n",
    "mycursor = mydb.cursor()\n",
    "mycursor.execute(\"use mytest;\")\n",
    "writes_sql = \"INSERT INTO Writes (ReviewerID, ReviewID) VALUES (%s, %s)\"\n",
    "for i in range(len(g_writes)):\n",
    "    cur_item = g_writes[i]\n",
    "    insert_val.append( (cur_item['reviewerID'], cur_item['reviewID']) )\n",
    "mycursor.executemany(writes_sql,insert_val)\n",
    "mydb.commit()\n",
    "    \n"
   ]
  },
  {
   "cell_type": "code",
   "execution_count": null,
   "metadata": {},
   "outputs": [],
   "source": [
    "#insert contain\n",
    "import mysql.connector\n",
    "\n",
    "mydb = mysql.connector.connect(\n",
    "    host = \"localhost\",\n",
    "    user = \"root\",\n",
    "    passwd = \"<PASSWORD>\"\n",
    ")\n",
    "\n",
    "insert_val = []\n",
    "mycursor = mydb.cursor()\n",
    "mycursor.execute(\"use mytest;\")\n",
    "contain_sql = \"INSERT INTO Contain (RestaurantID, ReviewID) VALUES (%s, %s)\"\n",
    "for i in range(len(g_contain)):\n",
    "    cur_item = g_contain[i]\n",
    "    insert_val.append( (cur_item['restaurantID'], cur_item['reviewID']) )\n",
    "mycursor.executemany(contain_sql, insert_val)\n",
    "mydb.commit()"
   ]
  }
 ],
 "metadata": {
  "kernelspec": {
   "display_name": "Python 3.9.7 ('base')",
   "language": "python",
   "name": "python3"
  },
  "language_info": {
   "codemirror_mode": {
    "name": "ipython",
    "version": 3
   },
   "file_extension": ".py",
   "mimetype": "text/x-python",
   "name": "python",
   "nbconvert_exporter": "python",
   "pygments_lexer": "ipython3",
   "version": "3.9.7"
  },
  "orig_nbformat": 4,
  "vscode": {
   "interpreter": {
    "hash": "88279d2366fe020547cde40dd65aa0e3aa662a6ec1f3ca12d88834876c85e1a6"
   }
  }
 },
 "nbformat": 4,
 "nbformat_minor": 2
}
